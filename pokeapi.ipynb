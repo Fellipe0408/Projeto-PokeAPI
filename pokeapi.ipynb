{
 "cells": [
  {
   "cell_type": "code",
   "execution_count": 10,
   "metadata": {},
   "outputs": [],
   "source": [
    "# Surgiu problemas com os dados que estavam fora da verificação e estavam sendo transformados em json antes disso.\n",
    "# R: Corrigi criando a estrutura SE. \n",
    "\n",
    "# Ocorreu dos movimentos dos pokémons terem mais de 4 linhas, fazendo a tabela dar erro por não ter espaço. \n",
    "# R: Resolvido após colocar para apenas utilizar os primeiros 4 ataques encontrados usando o for.\n",
    "\n",
    "# Enquanto estava mexendo no algoritmo, ele estava comparando 1 pokémon com o outro ao invés de comparar todos. \n",
    "# R: Resolvido colocando pra IA verificar todos os pokémons e analisar quem tem os 4 status mais altos.\n",
    "\n",
    "# Surgiu problemas quanto a quantidade de dados que o algoritmo puxava da API. \n",
    "# R: Corrigido após limitar a quantidade de dados puxados. "
   ]
  },
  {
   "cell_type": "code",
   "execution_count": 11,
   "metadata": {},
   "outputs": [],
   "source": [
    "#Projeto enviado para o GitHub\n",
    "\n",
    "#https://github.com/Fellipe0408/Projeto-PokeAPI"
   ]
  },
  {
   "cell_type": "code",
   "execution_count": 12,
   "metadata": {},
   "outputs": [],
   "source": [
    "import requests as r\n",
    "import pandas as pd\n",
    "import ipywidgets as widgets\n",
    "from IPython.display import display, clear_output\n",
    "import matplotlib.pyplot as plt"
   ]
  },
  {
   "cell_type": "code",
   "execution_count": 13,
   "metadata": {},
   "outputs": [],
   "source": [
    "# Variável para limitar a busca de Pokémon\n",
    "pokemon_limit = 10"
   ]
  },
  {
   "cell_type": "code",
   "execution_count": 14,
   "metadata": {},
   "outputs": [],
   "source": [
    "# Função para buscar todos os Pokémon e seus status\n",
    "def fetch_all_pokemon(limit):\n",
    "    url_list = f'https://pokeapi.co/api/v2/pokemon?offset=0&limit={limit}'\n",
    "    resp_list = r.get(url_list)\n",
    "    data_list = resp_list.json()\n",
    "    \n",
    "    all_pokemon_stats = {}\n",
    "    \n",
    "    for pokemon in data_list['results']:\n",
    "        name = pokemon['name']\n",
    "        url = pokemon['url']\n",
    "        resp = r.get(url)\n",
    "        \n",
    "        if resp.status_code == 200:\n",
    "            data = resp.json()\n",
    "            values = [v['base_stat'] for v in data['stats']]\n",
    "            all_pokemon_stats[name] = values\n",
    "            \n",
    "    return all_pokemon_stats\n",
    "\n",
    "# Busca todos os Pokémon\n",
    "all_pokemon_stats = fetch_all_pokemon(pokemon_limit)\n",
    "\n",
    "# Saída para exibir os resultados do Pokémon selecionado\n",
    "output_selected = widgets.Output()\n"
   ]
  },
  {
   "cell_type": "code",
   "execution_count": 15,
   "metadata": {},
   "outputs": [],
   "source": [
    "# Função para simular o uso de um LLM para sugestões de treinamento\n",
    "def suggest_training_with_llm(status, values):\n",
    "    suggestions = []\n",
    "    \n",
    "    for stat, value in zip(status, values):\n",
    "        if stat == 'hp' and value < 50:\n",
    "            suggestions.append(\"Treinamento de Resiliência: Enfrente Pokémon resistentes para aumentar seus HP.\")\n",
    "        elif stat == 'attack' and value < 50:\n",
    "            suggestions.append(\"Treinamento de Força: Treine contra Pokémon com baixa defesa.\")\n",
    "        elif stat == 'defense' and value < 50:\n",
    "            suggestions.append(\"Treinamento de Defesa: Melhore sua defesa enfrentando Pokémon com ataque alto.\")\n",
    "        elif stat == 'special-attack' and value < 50:\n",
    "            suggestions.append(\"Treinamento de Ataque Especial: Treine contra Pokémon vulneráveis a ataques especiais.\")\n",
    "        elif stat == 'special-defense' and value < 50:\n",
    "            suggestions.append(\"Treinamento de Defesa Especial: Enfrente Pokémon que usam ataques especiais.\")\n",
    "        elif stat == 'speed' and value < 50:\n",
    "            suggestions.append(\"Treinamento de Agilidade: Melhore sua velocidade enfrentando Pokémon mais lentos.\")\n",
    "    \n",
    "    return suggestions"
   ]
  },
  {
   "cell_type": "code",
   "execution_count": 16,
   "metadata": {},
   "outputs": [],
   "source": [
    "dropdown = widgets.Dropdown(\n",
    "        options=list(all_pokemon_stats.keys()),  # Opções baseadas nos Pokémon disponíveis\n",
    "        description='Escolha o Pokémon:',\n",
    ")"
   ]
  },
  {
   "cell_type": "code",
   "execution_count": 17,
   "metadata": {},
   "outputs": [],
   "source": [
    "# Função para buscar informações de um Pokémon e exibir em um DataFrame\n",
    "def fetch_pokemon_info(selected_pokemon):\n",
    "    url = f'https://pokeapi.co/api/v2/pokemon/{selected_pokemon}'\n",
    "    resp = r.get(url)\n",
    "    \n",
    "    with output_selected:\n",
    "        clear_output()  \n",
    "        if resp.status_code == 200:  # Verificar se está funcionando\n",
    "            data = resp.json()\n",
    "            \n",
    "            # Coleta habilidades, tipos, status, valores e movimentos\n",
    "            abilities = [i['ability']['name'] for i in data['abilities']]\n",
    "            types = [t['type']['name'] for t in data['types']]\n",
    "            status = [s['stat']['name'] for s in data['stats']]\n",
    "            values = [v['base_stat'] for v in data['stats']]\n",
    "            movimentos = [m['move']['name'] for i, m in enumerate(data['moves']) if i < 4]\n",
    "\n",
    "            # Garante que as listas tenham o mesmo tamanho\n",
    "            max_len = max(len(abilities), len(types), len(status), len(values), len(movimentos))\n",
    "            abilities += [''] * (max_len - len(abilities))\n",
    "            types += [''] * (max_len - len(types))\n",
    "            status += [''] * (max_len - len(status))\n",
    "            values += [''] * (max_len - len(values))\n",
    "            movimentos += [''] * (max_len - len(movimentos))\n",
    "\n",
    "            # Cria o DataFrame com habilidades, tipos, status, valores e movimentos\n",
    "            df_data = pd.DataFrame({\n",
    "                'Tipo': types,    \n",
    "                'Habilidades': abilities,\n",
    "                'Status': status,\n",
    "                'Valor': values,\n",
    "                'Movimentos': movimentos\n",
    "            })\n",
    "\n",
    "            # Cria um gráfico de pizza para os valores dos status\n",
    "            plt.figure(figsize=(8, 6))  # Ajusta o tamanho da figura\n",
    "\n",
    "            # Adiciona um subplot para o gráfico\n",
    "            plt.subplot(121)\n",
    "            plt.pie(values, labels=status, startangle=140)\n",
    "            plt.title(f'Status de {selected_pokemon}')\n",
    "            plt.axis('equal')\n",
    "\n",
    "            # Adiciona o DataFrame ao segundo subplot\n",
    "            plt.subplot(122) \n",
    "            plt.axis('off') \n",
    "            table = plt.table(cellText=df_data.values, colLabels=df_data.columns, cellLoc='center', loc='right')\n",
    "            table.auto_set_font_size(False)\n",
    "            table.set_fontsize(10)  # Ajusta o tamanho da fonte\n",
    "            table.scale(2.0, 2.0)  # Ajusta o tamanho da tabela\n",
    "\n",
    "            plt.show()  # Mostra a figura\n",
    "\n",
    "            # Sugere treinamento com base nos status usando o \"LLM\" (IA)\n",
    "            training_suggestions = suggest_training_with_llm(status, values)\n",
    "            if training_suggestions:\n",
    "                print(\"Sugestões de treinamento:\")\n",
    "                for suggestion in training_suggestions:\n",
    "                    print(f\"- {suggestion}\")\n",
    "            else:\n",
    "                print(\"Todos os status estão em níveis adequados para batalhar.\")\n",
    "        else:\n",
    "            print('Não existe este Pokémon')"
   ]
  },
  {
   "cell_type": "code",
   "execution_count": 18,
   "metadata": {},
   "outputs": [
    {
     "data": {
      "application/vnd.jupyter.widget-view+json": {
       "model_id": "f4005b3963a848f79f4739b17997d051",
       "version_major": 2,
       "version_minor": 0
      },
      "text/plain": [
       "Dropdown(description='Escolha o Pokémon:', options=('bulbasaur', 'ivysaur', 'venusaur', 'charmander', 'charmel…"
      ]
     },
     "metadata": {},
     "output_type": "display_data"
    },
    {
     "data": {
      "application/vnd.jupyter.widget-view+json": {
       "model_id": "784713a316a94366bbfb47a2e2cbbe95",
       "version_major": 2,
       "version_minor": 0
      },
      "text/plain": [
       "Output()"
      ]
     },
     "metadata": {},
     "output_type": "display_data"
    },
    {
     "data": {
      "application/vnd.jupyter.widget-view+json": {
       "model_id": "dbc6a55216d34f6b91c796e82ac0b35c",
       "version_major": 2,
       "version_minor": 0
      },
      "text/plain": [
       "Output()"
      ]
     },
     "metadata": {},
     "output_type": "display_data"
    }
   ],
   "source": [
    "# Função para comparar e exibir os 5 Pokémon mais fortes\n",
    "def display_top_pokemon():\n",
    "    with output_top_five:\n",
    "        clear_output()\n",
    "        if len(all_pokemon_stats) >= 2:  # Deve haver pelo menos 2 Pokémon para comparação\n",
    "            strong_pokemon_list = []\n",
    "            for pokemon1, stats1 in all_pokemon_stats.items():\n",
    "                count_stronger = 0\n",
    "                for pokemon2, stats2 in all_pokemon_stats.items():\n",
    "                    if pokemon1 != pokemon2:\n",
    "                        # Compara os stats\n",
    "                        greater_count = sum(1 for stat1, stat2 in zip(stats1, stats2) if stat1 > stat2)\n",
    "                        if greater_count >= 4: \n",
    "                            count_stronger += 1\n",
    "                strong_pokemon_list.append((pokemon1, count_stronger))\n",
    "            \n",
    "            # Ordena os Pokémon\n",
    "            strong_pokemon_list.sort(key=compare_strength, reverse=True)\n",
    "\n",
    "            print(\"Os 5 Pokémon mais fortes são:\")\n",
    "            for pokemon, count in strong_pokemon_list[:5]:\n",
    "                print(f\"{pokemon.capitalize()}\")\n",
    "\n",
    "        else:\n",
    "            print(\"Selecione mais Pokémon para comparação.\")\n",
    "\n",
    "# Exibi os 5 Pokémon mais fortes\n",
    "output_top_five = widgets.Output()\n",
    "\n",
    "# Função de comparação para ordenar Pokémon\n",
    "def compare_strength(item):\n",
    "    return item[1]\n",
    "\n",
    "# Função chamada quando o dropdown muda\n",
    "def on_dropdown_change(change):\n",
    "    selected_value = change['new']\n",
    "    fetch_pokemon_info(selected_value)  # Chama a função para exibir informações do Pokémon selecionado\n",
    "    display_top_pokemon()  # Atualiza a lista dos 5 Pokémon mais fortes\n",
    "\n",
    "\n",
    "# Adiciona o observador ao dropdown\n",
    "dropdown.observe(on_dropdown_change, names='value')\n",
    "\n",
    "# Exibe os widgets\n",
    "display(dropdown, output_selected, output_top_five)"
   ]
  }
 ],
 "metadata": {
  "kernelspec": {
   "display_name": "venv",
   "language": "python",
   "name": "python3"
  },
  "language_info": {
   "codemirror_mode": {
    "name": "ipython",
    "version": 3
   },
   "file_extension": ".py",
   "mimetype": "text/x-python",
   "name": "python",
   "nbconvert_exporter": "python",
   "pygments_lexer": "ipython3",
   "version": "3.12.6"
  }
 },
 "nbformat": 4,
 "nbformat_minor": 2
}
